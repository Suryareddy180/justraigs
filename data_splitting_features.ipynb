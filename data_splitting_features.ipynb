{
 "cells": [
  {
   "cell_type": "code",
   "execution_count": 43,
   "id": "cfa878d9",
   "metadata": {},
   "outputs": [],
   "source": [
    "from sklearn.model_selection import train_test_split\n",
    "import pandas as pd\n",
    "import numpy as np\n",
    "import os, os.path as osp\n",
    "pd.set_option('mode.chained_assignment',None)"
   ]
  },
  {
   "cell_type": "markdown",
   "id": "68c2be2e",
   "metadata": {},
   "source": [
    "# Analyze other glaucoma-related features\n",
    "\n",
    "* Appearance neuroretinal rim superiorly (ANRS)\n",
    "* Appearance neuroretinal rim inferiorly (ANRI)\n",
    "* Retinal nerve fiber layer defect superiorly (RNFLDS)\n",
    "* Retinal nerve fiber layer defect inferiorly (RNFLDI)\n",
    "* Baring circumlinear vessel superiorly (BCLVS)\n",
    "* Baring circumlinear vessel inferiorly (BCLVI)\n",
    "* Nasalisation of vessel trunk (NVT)\n",
    "* Disc hemorrhages (DH)\n",
    "* Laminar dots (LD)\n",
    "* Large cup (LC)\n",
    "\n",
    "Thing is, it might happen that G1 and G2 disagree at the features level, and in that case G3 will not say anything. G3 will only say something if G1 and G2 disagree at the referral level."
   ]
  },
  {
   "cell_type": "code",
   "execution_count": 2,
   "id": "552d974f",
   "metadata": {},
   "outputs": [
    {
     "data": {
      "text/plain": [
       "Index(['Eye ID', 'Final Label', 'Fellow Eye ID', 'Age', 'Label G1', 'Label G2',\n",
       "       'Label G3', 'G1 ANRS', 'G1 ANRI', 'G1 RNFLDS', 'G1 RNFLDI', 'G1 BCLVS',\n",
       "       'G1 BCLVI', 'G1 NVT', 'G1 DH', 'G1 LD', 'G1 LC', 'G2 ANRS', 'G2 ANRI',\n",
       "       'G2 RNFLDS', 'G2 RNFLDI', 'G2 BCLVS', 'G2 BCLVI', 'G2 NVT', 'G2 DH',\n",
       "       'G2 LD', 'G2 LC', 'G3 ANRS', 'G3 ANRI', 'G3 RNFLDS', 'G3 RNFLDI',\n",
       "       'G3 BCLVS', 'G3 BCLVI', 'G3 NVT', 'G3 DH', 'G3 LD', 'G3 LC'],\n",
       "      dtype='object')"
      ]
     },
     "execution_count": 2,
     "metadata": {},
     "output_type": "execute_result"
    }
   ],
   "source": [
    "df = pd.read_csv('data/JustRAIGS_Train_labels.csv', sep=';', index_col=False)\n",
    "df.columns"
   ]
  },
  {
   "cell_type": "code",
   "execution_count": 3,
   "id": "6f747bad",
   "metadata": {},
   "outputs": [
    {
     "data": {
      "text/plain": [
       "(101423, 37)"
      ]
     },
     "execution_count": 3,
     "metadata": {},
     "output_type": "execute_result"
    }
   ],
   "source": [
    "df.shape"
   ]
  },
  {
   "cell_type": "code",
   "execution_count": 4,
   "id": "7b1f1217",
   "metadata": {},
   "outputs": [
    {
     "data": {
      "text/plain": [
       "(array(['NRG', 'RG'], dtype=object),\n",
       " array(['NRG', 'RG', 'U', nan], dtype=object),\n",
       " array(['NRG', nan, 'RG', 'U'], dtype=object))"
      ]
     },
     "execution_count": 4,
     "metadata": {},
     "output_type": "execute_result"
    }
   ],
   "source": [
    "def labels(label):\n",
    "    if label=='NRG': return 0\n",
    "    elif label=='RG': return 1\n",
    "    elif label=='U': return 2\n",
    "    elif label==np.nan: return 3\n",
    "df['Final Label'].unique(), df['Label G1'].unique(), df['Label G2'].unique()"
   ]
  },
  {
   "cell_type": "code",
   "execution_count": 5,
   "id": "c5469a53",
   "metadata": {},
   "outputs": [
    {
     "data": {
      "text/plain": [
       "(array([0, 1]), array([ 0.,  1.,  2., nan]), array([ 0., nan,  1.,  2.]))"
      ]
     },
     "execution_count": 5,
     "metadata": {},
     "output_type": "execute_result"
    }
   ],
   "source": [
    "df['Final Label'] = df['Final Label'].map(labels)\n",
    "df['Label G1'] = df['Label G1'].map(labels)\n",
    "df['Label G2'] = df['Label G2'].map(labels)\n",
    "df['Label G3'] = df['Label G3'].map(labels)\n",
    "\n",
    "df['Final Label'].unique(), df['Label G1'].unique(), df['Label G2'].unique()"
   ]
  },
  {
   "cell_type": "code",
   "execution_count": 6,
   "id": "4fc3b8a5",
   "metadata": {},
   "outputs": [
    {
     "data": {
      "text/plain": [
       "(3270, 37)"
      ]
     },
     "execution_count": 6,
     "metadata": {},
     "output_type": "execute_result"
    }
   ],
   "source": [
    "df_features = df[df['Final Label']==1]\n",
    "df_features.shape"
   ]
  },
  {
   "cell_type": "code",
   "execution_count": 7,
   "id": "e6678086",
   "metadata": {},
   "outputs": [
    {
     "data": {
      "text/plain": [
       "(992, 37)"
      ]
     },
     "execution_count": 7,
     "metadata": {},
     "output_type": "execute_result"
    }
   ],
   "source": [
    "df_features = df[df['Label G3']==1]\n",
    "df_features.shape"
   ]
  },
  {
   "cell_type": "code",
   "execution_count": 8,
   "id": "7f01d836",
   "metadata": {},
   "outputs": [
    {
     "data": {
      "text/plain": [
       "(2279, 37)"
      ]
     },
     "execution_count": 8,
     "metadata": {},
     "output_type": "execute_result"
    }
   ],
   "source": [
    "df_features = df[(df['Label G1']==1) & (df['Label G2']==1)]\n",
    "df_features.shape"
   ]
  },
  {
   "cell_type": "code",
   "execution_count": 9,
   "id": "2cb25540",
   "metadata": {},
   "outputs": [
    {
     "data": {
      "text/plain": [
       "3271"
      ]
     },
     "execution_count": 9,
     "metadata": {},
     "output_type": "execute_result"
    }
   ],
   "source": [
    "2279+992"
   ]
  },
  {
   "cell_type": "markdown",
   "id": "2844392f",
   "metadata": {},
   "source": [
    "So final label = 1 comes from images where G1 agreed with G2 PLUS a part of the images where G1!=G2, where G3 made final decision. But there are many more images graded as 1 by G1 and G2 that did not make it into this set."
   ]
  },
  {
   "cell_type": "markdown",
   "id": "0432fa4e",
   "metadata": {},
   "source": [
    "Point is, G1 said 1 5000 times, and only 2300 where agreements with G2! Should we use those for training?"
   ]
  },
  {
   "cell_type": "code",
   "execution_count": 4,
   "id": "71f5a214",
   "metadata": {},
   "outputs": [
    {
     "data": {
      "text/plain": [
       "0.30800000000000005"
      ]
     },
     "execution_count": 4,
     "metadata": {},
     "output_type": "execute_result"
    }
   ],
   "source": [
    "0.139+(1-0.831)"
   ]
  },
  {
   "cell_type": "markdown",
   "id": "d56fc7da",
   "metadata": {},
   "source": [
    "Ok, here is what we do. \n",
    "* There are images where only G3 gave an opinion. Those are hard-labels and there is no alternative.\n",
    "* Then there are images where G1!=G2, and G3 gave an opinion. In this case, maybe G1==G3, but not at the feature level. We then assign a 0.1/0.9 to disagreement, in favor of G3. Same with G2.\n",
    "* This still leaves the case where G1==G2==1, but not at the feature level! In those cases, we will add a 0.5 if they disagree at some feature.\n",
    "* Then, we collect all images where G1 == 1 or G2 ==1 but Final Label == 0. In this case, G3 did not give info at feature level as they thought there was no glaucoma. We will keep those as \"soft labeled\", and add a 0.25 on feature values.\n",
    "\n",
    "Goodness."
   ]
  },
  {
   "cell_type": "markdown",
   "id": "05b058f4",
   "metadata": {},
   "source": [
    "### Only G3 gave opinion"
   ]
  },
  {
   "cell_type": "code",
   "execution_count": 10,
   "id": "4fb18525",
   "metadata": {},
   "outputs": [
    {
     "data": {
      "text/plain": [
       "(173, 37)"
      ]
     },
     "execution_count": 10,
     "metadata": {},
     "output_type": "execute_result"
    }
   ],
   "source": [
    "df_G3_alone = df[(df['Label G3']==1) & (df['Label G1']!=1) & (df['Label G2']!=1)]\n",
    "df_G3_alone.shape"
   ]
  },
  {
   "cell_type": "code",
   "execution_count": 11,
   "id": "0de44308",
   "metadata": {},
   "outputs": [
    {
     "data": {
      "text/plain": [
       "Index(['Eye ID', 'ANRS', 'ANRI', 'RNFLDS', 'RNFLDI', 'BCLVS', 'BCLVI', 'NVT',\n",
       "       'DH', 'LD', 'LC'],\n",
       "      dtype='object')"
      ]
     },
     "execution_count": 11,
     "metadata": {},
     "output_type": "execute_result"
    }
   ],
   "source": [
    "df_G3_alone=df_G3_alone.drop([n for n in df.columns if 'G1' in n], axis=1)\n",
    "df_G3_alone=df_G3_alone.drop([n for n in df.columns if 'G2' in n], axis=1)\n",
    "df_G3_alone=df_G3_alone.drop(['Label G3', 'Final Label', 'Fellow Eye ID', 'Age'], axis=1)\n",
    "df_G3_alone=df_G3_alone.rename(columns=lambda x: x.replace('G3 ','') if 'G3' in x else x)\n",
    "df_G3_alone.columns"
   ]
  },
  {
   "cell_type": "code",
   "execution_count": 12,
   "id": "b86f996b",
   "metadata": {},
   "outputs": [],
   "source": [
    "df_G3_alone = df_G3_alone[['Eye ID', 'ANRS','ANRI', 'RNFLDS', 'RNFLDI', 'BCLVS','BCLVI', 'NVT', 'DH', 'LD', 'LC']]"
   ]
  },
  {
   "cell_type": "markdown",
   "id": "6958de50",
   "metadata": {},
   "source": [
    "### G1 thought Glaucoma, G3 agreed, G2 disagreed"
   ]
  },
  {
   "cell_type": "code",
   "execution_count": 13,
   "id": "4404178d",
   "metadata": {},
   "outputs": [
    {
     "data": {
      "text/plain": [
       "(436, 37)"
      ]
     },
     "execution_count": 13,
     "metadata": {},
     "output_type": "execute_result"
    }
   ],
   "source": [
    "df_G1G3 = df[(df['Label G3']==1) & (df['Label G1']==1) & (df['Label G2']!=1)]\n",
    "df_G1G3.shape"
   ]
  },
  {
   "cell_type": "code",
   "execution_count": 14,
   "id": "d9bec605",
   "metadata": {},
   "outputs": [],
   "source": [
    "def build_labels_g1g3(df, col):\n",
    "    if df['G1 '+col]==df['G3 '+col]: return df['G3 '+col]\n",
    "    else:\n",
    "        if df['G3 '+col]==0: return 0.1\n",
    "        elif df['G3 '+col]==1: return 0.9\n",
    "        else: print('wtf')"
   ]
  },
  {
   "cell_type": "code",
   "execution_count": 15,
   "id": "5513a867",
   "metadata": {},
   "outputs": [],
   "source": [
    "df_G1G3['ANRS']=df_G1G3.apply(lambda x: build_labels_g1g3(x, 'ANRS'), axis=1)\n",
    "df_G1G3['ANRI']= df_G1G3.apply(lambda x: build_labels_g1g3(x, 'ANRI'), axis=1)\n",
    "\n",
    "df_G1G3['RNFLDS']=df_G1G3.apply(lambda x: build_labels_g1g3(x, 'RNFLDS'), axis=1)\n",
    "df_G1G3['RNFLDI']=df_G1G3.apply(lambda x: build_labels_g1g3(x, 'RNFLDI'), axis=1)\n",
    "\n",
    "df_G1G3['BCLVS']=df_G1G3.apply(lambda x: build_labels_g1g3(x, 'BCLVS'), axis=1)\n",
    "df_G1G3['BCLVI']=df_G1G3.apply(lambda x: build_labels_g1g3(x, 'BCLVI'), axis=1)\n",
    "\n",
    "df_G1G3['NVT']=df_G1G3.apply(lambda x: build_labels_g1g3(x, 'NVT'), axis=1)\n",
    "df_G1G3['DH']=df_G1G3.apply(lambda x: build_labels_g1g3(x, 'DH'), axis=1)\n",
    "\n",
    "df_G1G3['LD']=df_G1G3.apply(lambda x: build_labels_g1g3(x, 'LD'), axis=1)\n",
    "df_G1G3['LC']=df_G1G3.apply(lambda x: build_labels_g1g3(x, 'LC'), axis=1)"
   ]
  },
  {
   "cell_type": "code",
   "execution_count": 16,
   "id": "f39390b0",
   "metadata": {},
   "outputs": [],
   "source": [
    "df_G1G3 = df_G1G3[['Eye ID', 'ANRS','ANRI', 'RNFLDS', 'RNFLDI', 'BCLVS', 'BCLVI', 'NVT', 'DH', 'LD', 'LC']]"
   ]
  },
  {
   "cell_type": "markdown",
   "id": "9db262c7",
   "metadata": {},
   "source": [
    "### G2 thought Glaucoma, G3 agreed, G1 disagreed"
   ]
  },
  {
   "cell_type": "code",
   "execution_count": 17,
   "id": "e2f255fc",
   "metadata": {},
   "outputs": [
    {
     "data": {
      "text/plain": [
       "(382, 37)"
      ]
     },
     "execution_count": 17,
     "metadata": {},
     "output_type": "execute_result"
    }
   ],
   "source": [
    "df_G2G3 = df[(df['Label G3']==1) & (df['Label G2']==1) & (df['Label G1']!=1)]\n",
    "df_G2G3.shape"
   ]
  },
  {
   "cell_type": "code",
   "execution_count": 18,
   "id": "670a25c9",
   "metadata": {},
   "outputs": [],
   "source": [
    "def build_labels_g2g3(df, col):\n",
    "    if df['G2 '+col]==df['G3 '+col]: return df['G3 '+col]\n",
    "    else:\n",
    "        if df['G3 '+col]==0: return 0.1\n",
    "        elif df['G3 '+col]==1: return 0.9\n",
    "        else: print('wtf')"
   ]
  },
  {
   "cell_type": "code",
   "execution_count": 19,
   "id": "262b967c",
   "metadata": {},
   "outputs": [],
   "source": [
    "df_G2G3['ANRS']=df_G2G3.apply(lambda x: build_labels_g2g3(x, 'ANRS'), axis=1)\n",
    "df_G2G3['ANRI']= df_G2G3.apply(lambda x: build_labels_g2g3(x, 'ANRI'), axis=1)\n",
    "\n",
    "df_G2G3['RNFLDS']=df_G2G3.apply(lambda x: build_labels_g2g3(x, 'RNFLDS'), axis=1)\n",
    "df_G2G3['RNFLDI']=df_G2G3.apply(lambda x: build_labels_g2g3(x, 'RNFLDI'), axis=1)\n",
    "\n",
    "df_G2G3['BCLVS']=df_G2G3.apply(lambda x: build_labels_g2g3(x, 'BCLVS'), axis=1)\n",
    "df_G2G3['BCLVI']=df_G2G3.apply(lambda x: build_labels_g2g3(x, 'BCLVI'), axis=1)\n",
    "\n",
    "df_G2G3['NVT']=df_G2G3.apply(lambda x: build_labels_g2g3(x, 'NVT'), axis=1)\n",
    "df_G2G3['DH']=df_G2G3.apply(lambda x: build_labels_g2g3(x, 'DH'), axis=1)\n",
    "\n",
    "df_G2G3['LD']=df_G2G3.apply(lambda x: build_labels_g2g3(x, 'LD'), axis=1)\n",
    "df_G2G3['LC']=df_G2G3.apply(lambda x: build_labels_g2g3(x, 'LC'), axis=1)"
   ]
  },
  {
   "cell_type": "code",
   "execution_count": 20,
   "id": "92965b85",
   "metadata": {},
   "outputs": [],
   "source": [
    "df_G2G3 = df_G2G3[['Eye ID', 'ANRS','ANRI', 'RNFLDS', 'RNFLDI', 'BCLVS', 'BCLVI', 'NVT', 'DH', 'LD', 'LC']]"
   ]
  },
  {
   "cell_type": "markdown",
   "id": "6c7d7d06",
   "metadata": {},
   "source": [
    "### G1 thought Glaucoma, G2 agreed, but maybe not at feature level"
   ]
  },
  {
   "cell_type": "code",
   "execution_count": 21,
   "id": "f43031e1",
   "metadata": {},
   "outputs": [
    {
     "data": {
      "text/plain": [
       "(2279, 37)"
      ]
     },
     "execution_count": 21,
     "metadata": {},
     "output_type": "execute_result"
    }
   ],
   "source": [
    "df_G1G2 = df[(df['Label G1']==1) & (df['Label G2']==1)]\n",
    "df_G1G2.shape"
   ]
  },
  {
   "cell_type": "code",
   "execution_count": 22,
   "id": "861839d8",
   "metadata": {},
   "outputs": [
    {
     "data": {
      "text/plain": [
       "(1791, 37)"
      ]
     },
     "execution_count": 22,
     "metadata": {},
     "output_type": "execute_result"
    }
   ],
   "source": [
    "df_G1G2[df_G1G2['G1 ANRS']==df_G1G2['G2 ANRS']].shape"
   ]
  },
  {
   "cell_type": "code",
   "execution_count": 23,
   "id": "e24b78c6",
   "metadata": {},
   "outputs": [],
   "source": [
    "def build_labels_g1g2(df, col):\n",
    "    if df['G1 '+col]==df['G2 '+col]: return df['G1 '+col]\n",
    "    else: return 0.5"
   ]
  },
  {
   "cell_type": "code",
   "execution_count": 24,
   "id": "d37ab745",
   "metadata": {},
   "outputs": [],
   "source": [
    "df_G1G2['ANRS']=df_G1G2.apply(lambda x: build_labels_g1g2(x, 'ANRS'), axis=1)\n",
    "df_G1G2['ANRI']= df_G1G2.apply(lambda x: build_labels_g1g2(x, 'ANRI'), axis=1)\n",
    "\n",
    "df_G1G2['RNFLDS']=df_G1G2.apply(lambda x: build_labels_g1g2(x, 'RNFLDS'), axis=1)\n",
    "df_G1G2['RNFLDI']=df_G1G2.apply(lambda x: build_labels_g1g2(x, 'RNFLDI'), axis=1)\n",
    "\n",
    "df_G1G2['BCLVS']=df_G1G2.apply(lambda x: build_labels_g1g2(x, 'BCLVS'), axis=1)\n",
    "df_G1G2['BCLVI']=df_G1G2.apply(lambda x: build_labels_g1g2(x, 'BCLVI'), axis=1)\n",
    "\n",
    "df_G1G2['NVT']=df_G1G2.apply(lambda x: build_labels_g1g2(x, 'NVT'), axis=1)\n",
    "df_G1G2['DH']=df_G1G2.apply(lambda x: build_labels_g1g2(x, 'DH'), axis=1)\n",
    "\n",
    "df_G1G2['LD']=df_G1G2.apply(lambda x: build_labels_g1g2(x, 'LD'), axis=1)\n",
    "df_G1G2['LC']=df_G1G2.apply(lambda x: build_labels_g1g2(x, 'LC'), axis=1)"
   ]
  },
  {
   "cell_type": "code",
   "execution_count": 25,
   "id": "90d128d3",
   "metadata": {},
   "outputs": [
    {
     "data": {
      "text/plain": [
       "(array([0. , 0.5, 1. ]), array([ 407,  488, 1384]))"
      ]
     },
     "execution_count": 25,
     "metadata": {},
     "output_type": "execute_result"
    }
   ],
   "source": [
    "np.unique(df_G1G2['ANRS'], return_counts=True)"
   ]
  },
  {
   "cell_type": "code",
   "execution_count": 26,
   "id": "caadff0c",
   "metadata": {},
   "outputs": [
    {
     "data": {
      "text/plain": [
       "(array([0. , 0.5, 1. ]), array([ 258,  477, 1544]))"
      ]
     },
     "execution_count": 26,
     "metadata": {},
     "output_type": "execute_result"
    }
   ],
   "source": [
    "np.unique(df_G1G2['ANRI'], return_counts=True)"
   ]
  },
  {
   "cell_type": "code",
   "execution_count": 27,
   "id": "782f8702",
   "metadata": {},
   "outputs": [],
   "source": [
    "df_G1G2 = df_G1G2[['Eye ID', 'ANRS','ANRI', 'RNFLDS', 'RNFLDI', 'BCLVS', 'BCLVI', 'NVT', 'DH', 'LD', 'LC']]"
   ]
  },
  {
   "cell_type": "markdown",
   "id": "e454dad5",
   "metadata": {},
   "source": [
    "### G1 thought Glaucoma, G2 and G3 disagreed"
   ]
  },
  {
   "cell_type": "code",
   "execution_count": 28,
   "id": "646f6176",
   "metadata": {},
   "outputs": [
    {
     "data": {
      "text/plain": [
       "(2166, 37)"
      ]
     },
     "execution_count": 28,
     "metadata": {},
     "output_type": "execute_result"
    }
   ],
   "source": [
    "df_G1 = df[(df['Label G1']==1) & (df['Label G2']==0) & (df['Label G3']==0)]\n",
    "df_G1.shape"
   ]
  },
  {
   "cell_type": "code",
   "execution_count": 29,
   "id": "ffe78565",
   "metadata": {},
   "outputs": [],
   "source": [
    "def build_labels_g1(df, col):\n",
    "    if df['G1 '+col]==1: return 0.25\n",
    "    else: return 0"
   ]
  },
  {
   "cell_type": "code",
   "execution_count": 30,
   "id": "28fd41c5",
   "metadata": {},
   "outputs": [],
   "source": [
    "df_G1['ANRS']=df_G1.apply(lambda x: build_labels_g1(x, 'ANRS'), axis=1)\n",
    "df_G1['ANRI']= df_G1.apply(lambda x: build_labels_g1(x, 'ANRI'), axis=1)\n",
    "\n",
    "df_G1['RNFLDS']=df_G1.apply(lambda x: build_labels_g1(x, 'RNFLDS'), axis=1)\n",
    "df_G1['RNFLDI']=df_G1.apply(lambda x: build_labels_g1(x, 'RNFLDI'), axis=1)\n",
    "\n",
    "df_G1['BCLVS']=df_G1.apply(lambda x: build_labels_g1(x, 'BCLVS'), axis=1)\n",
    "df_G1['BCLVI']=df_G1.apply(lambda x: build_labels_g1(x, 'BCLVI'), axis=1)\n",
    "\n",
    "df_G1['NVT']=df_G1.apply(lambda x: build_labels_g1(x, 'NVT'), axis=1)\n",
    "df_G1['DH']=df_G1.apply(lambda x: build_labels_g1(x, 'DH'), axis=1)\n",
    "\n",
    "df_G1['LD']=df_G1.apply(lambda x: build_labels_g1(x, 'LD'), axis=1)\n",
    "df_G1['LC']=df_G1.apply(lambda x: build_labels_g1(x, 'LC'), axis=1)"
   ]
  },
  {
   "cell_type": "code",
   "execution_count": 31,
   "id": "aef34fdb",
   "metadata": {},
   "outputs": [],
   "source": [
    "df_G1 = df_G1[['Eye ID', 'ANRS','ANRI', 'RNFLDS', 'RNFLDI', 'BCLVS', 'BCLVI', 'NVT', 'DH', 'LD', 'LC']]"
   ]
  },
  {
   "cell_type": "markdown",
   "id": "cebdf1e5",
   "metadata": {},
   "source": [
    "### G2 thought Glaucoma, G1 and G3 disagreed"
   ]
  },
  {
   "cell_type": "code",
   "execution_count": 32,
   "id": "2d328695",
   "metadata": {},
   "outputs": [
    {
     "data": {
      "text/plain": [
       "(1054, 37)"
      ]
     },
     "execution_count": 32,
     "metadata": {},
     "output_type": "execute_result"
    }
   ],
   "source": [
    "df_G2 = df[(df['Label G2']==1) & (df['Label G1']==0) & (df['Label G3']==0)]\n",
    "df_G2.shape"
   ]
  },
  {
   "cell_type": "code",
   "execution_count": 33,
   "id": "e63eebc2",
   "metadata": {},
   "outputs": [],
   "source": [
    "def build_labels_g2(df, col):\n",
    "    if df['G2 '+col]==1: return 0.25\n",
    "    else: return 0"
   ]
  },
  {
   "cell_type": "code",
   "execution_count": 34,
   "id": "93d03e97",
   "metadata": {},
   "outputs": [],
   "source": [
    "df_G2['ANRS']=df_G2.apply(lambda x: build_labels_g2(x, 'ANRS'), axis=1)\n",
    "df_G2['ANRI']= df_G2.apply(lambda x: build_labels_g2(x, 'ANRI'), axis=1)\n",
    "\n",
    "df_G2['RNFLDS']=df_G2.apply(lambda x: build_labels_g2(x, 'RNFLDS'), axis=1)\n",
    "df_G2['RNFLDI']=df_G2.apply(lambda x: build_labels_g2(x, 'RNFLDI'), axis=1)\n",
    "\n",
    "df_G2['BCLVS']=df_G2.apply(lambda x: build_labels_g2(x, 'BCLVS'), axis=1)\n",
    "df_G2['BCLVI']=df_G2.apply(lambda x: build_labels_g2(x, 'BCLVI'), axis=1)\n",
    "\n",
    "df_G2['NVT']=df_G2.apply(lambda x: build_labels_g2(x, 'NVT'), axis=1)\n",
    "df_G2['DH']=df_G2.apply(lambda x: build_labels_g2(x, 'DH'), axis=1)\n",
    "\n",
    "df_G2['LD']=df_G2.apply(lambda x: build_labels_g2(x, 'LD'), axis=1)\n",
    "df_G2['LC']=df_G2.apply(lambda x: build_labels_g2(x, 'LC'), axis=1)"
   ]
  },
  {
   "cell_type": "code",
   "execution_count": 35,
   "id": "3d74e4b5",
   "metadata": {},
   "outputs": [],
   "source": [
    "df_G2 = df_G2[['Eye ID', 'ANRS','ANRI', 'RNFLDS', 'RNFLDI', 'BCLVS', 'BCLVI', 'NVT', 'DH', 'LD', 'LC']]"
   ]
  },
  {
   "cell_type": "markdown",
   "id": "123f9c91",
   "metadata": {},
   "source": [
    "## Done\n",
    "So we end up with a bunch of dataframes, let us see:"
   ]
  },
  {
   "cell_type": "code",
   "execution_count": 36,
   "id": "226c4b10",
   "metadata": {},
   "outputs": [
    {
     "name": "stdout",
     "output_type": "stream",
     "text": [
      "trustworthy: (173, 11) (436, 11) (382, 11) (2279, 11)\n",
      "unreliable: (2166, 11) (1054, 11)\n"
     ]
    }
   ],
   "source": [
    "print('trustworthy:', df_G3_alone.shape, df_G1G3.shape, df_G2G3.shape, df_G1G2.shape)\n",
    "print('unreliable:', df_G1.shape, df_G2.shape)"
   ]
  },
  {
   "cell_type": "code",
   "execution_count": 37,
   "id": "9cc102d0",
   "metadata": {},
   "outputs": [
    {
     "data": {
      "text/plain": [
       "(6490, 11)"
      ]
     },
     "execution_count": 37,
     "metadata": {},
     "output_type": "execute_result"
    }
   ],
   "source": [
    "df_features = pd.concat([df_G3_alone, df_G1G3, df_G2G3, df_G1G2, df_G1, df_G2], axis=0)\n",
    "df_features.shape"
   ]
  },
  {
   "cell_type": "code",
   "execution_count": 38,
   "id": "50567f9e",
   "metadata": {},
   "outputs": [
    {
     "data": {
      "text/plain": [
       "Eye ID    False\n",
       "ANRS      False\n",
       "ANRI      False\n",
       "RNFLDS    False\n",
       "RNFLDI    False\n",
       "BCLVS     False\n",
       "BCLVI     False\n",
       "NVT       False\n",
       "DH        False\n",
       "LD        False\n",
       "LC        False\n",
       "dtype: bool"
      ]
     },
     "execution_count": 38,
     "metadata": {},
     "output_type": "execute_result"
    }
   ],
   "source": [
    "df_features.isnull().any()"
   ]
  },
  {
   "cell_type": "markdown",
   "id": "44904662",
   "metadata": {},
   "source": [
    "But we will not be using df_G1 and df_G2 for validation, so do the train/val split first, then add those to train.\n",
    "\n",
    "### First option: use only reliable annotations (although soft):"
   ]
  },
  {
   "cell_type": "code",
   "execution_count": 72,
   "id": "d610cdbf",
   "metadata": {},
   "outputs": [
    {
     "data": {
      "text/plain": [
       "((4089, 11), (3220, 11))"
      ]
     },
     "execution_count": 72,
     "metadata": {},
     "output_type": "execute_result"
    }
   ],
   "source": [
    "df_features_mad = pd.concat([df_G3_alone, df_G1G3, df_G2G3, df_G1G2], axis=0)\n",
    "df_features_madder = pd.concat([df_G1, df_G2], axis=0)\n",
    "df_features_mad.shape, df_features_madder.shape"
   ]
  },
  {
   "cell_type": "code",
   "execution_count": 75,
   "id": "ee5ef6cc",
   "metadata": {},
   "outputs": [],
   "source": [
    "df_features_mad = df_features_mad.rename(columns={'Eye ID': 'image_id'})\n",
    "df_features_mad.image_id = [osp.join('data/images', n + '.JPG') for n in df_features_mad.image_id.values]"
   ]
  },
  {
   "cell_type": "code",
   "execution_count": 76,
   "id": "e2994d4a",
   "metadata": {},
   "outputs": [],
   "source": [
    "df_features_madder = df_features_madder.rename(columns={'Eye ID': 'image_id'})\n",
    "df_features_madder.image_id = [osp.join('data/images', n + '.JPG') for n in df_features_madder.image_id.values]"
   ]
  },
  {
   "cell_type": "code",
   "execution_count": 81,
   "id": "1b87c895",
   "metadata": {},
   "outputs": [
    {
     "data": {
      "text/plain": [
       "((4089, 11), array([0. , 0.1, 0.9, 1. ]))"
      ]
     },
     "execution_count": 81,
     "metadata": {},
     "output_type": "execute_result"
    }
   ],
   "source": [
    "df_features_mad.shape, np.unique(df_features_mad[[n for n in df_features_mad.columns if n!='image_id']])"
   ]
  },
  {
   "cell_type": "code",
   "execution_count": 80,
   "id": "d564a14d",
   "metadata": {},
   "outputs": [
    {
     "data": {
      "text/plain": [
       "((3220, 11), array([0.  , 0.25]))"
      ]
     },
     "execution_count": 80,
     "metadata": {},
     "output_type": "execute_result"
    }
   ],
   "source": [
    "df_features_madder.shape, np.unique(df_features_madder[[n for n in df_features_madder.columns if n!='image_id']])"
   ]
  },
  {
   "cell_type": "code",
   "execution_count": 48,
   "id": "d56e4cd1",
   "metadata": {},
   "outputs": [],
   "source": [
    "num_ims = len(df_features_good)\n",
    "meh, df_val1 = train_test_split(df_features_good, test_size=num_ims//5, random_state=0)\n",
    "meh, df_val2 = train_test_split(meh,    test_size=num_ims//5, random_state=0)\n",
    "meh, df_val3 = train_test_split(meh,    test_size=num_ims//5, random_state=0)\n",
    "df_val5, df_val4 = train_test_split(meh,test_size=num_ims//5, random_state=0)\n",
    "\n",
    "df_train1 = pd.concat([df_val2,df_val3,df_val4,df_val5], axis=0)\n",
    "df_train2 = pd.concat([df_val1,df_val3,df_val4,df_val5], axis=0)\n",
    "df_train3 = pd.concat([df_val1,df_val2,df_val4,df_val5], axis=0)\n",
    "df_train4 = pd.concat([df_val1,df_val2,df_val3,df_val5], axis=0)\n",
    "df_train5 = pd.concat([df_val1,df_val2,df_val3,df_val4], axis=0)\n",
    "\n",
    "df_train1.to_csv('data/tr_features_soft_mad_f1.csv', index=None)\n",
    "df_val1.to_csv('data/vl_features_soft_mad_f1.csv', index=None)\n",
    "\n",
    "df_train2.to_csv('data/tr_features_soft_mad_f2.csv', index=None)\n",
    "df_val2.to_csv('data/vl_features_soft_mad_f2.csv', index=None)\n",
    "\n",
    "df_train3.to_csv('data/tr_features_soft_mad_f3.csv', index=None)\n",
    "df_val3.to_csv('data/vl_features_soft_mad_f3.csv', index=None)\n",
    "\n",
    "df_train4.to_csv('data/tr_features_soft_mad_f4.csv', index=None)\n",
    "df_val4.to_csv('data/vl_features_soft_mad_f4.csv', index=None)\n",
    "\n",
    "df_train5.to_csv('data/tr_features_soft_mad_f5.csv', index=None)\n",
    "df_val5.to_csv('data/vl_features_soft_mad_f5.csv', index=None)"
   ]
  },
  {
   "cell_type": "markdown",
   "id": "8672e072",
   "metadata": {},
   "source": [
    "### Second option: add unreliable annotations to training sets:"
   ]
  },
  {
   "cell_type": "code",
   "execution_count": 49,
   "id": "56449e6b",
   "metadata": {},
   "outputs": [
    {
     "name": "stdout",
     "output_type": "stream",
     "text": [
      "(2616, 11)\n",
      "(5836, 11)\n"
     ]
    }
   ],
   "source": [
    "print(df_train1.shape)\n",
    "df_train1 = pd.concat([df_train1, df_features_goodish], axis=0)\n",
    "print(df_train1.shape)"
   ]
  },
  {
   "cell_type": "code",
   "execution_count": 50,
   "id": "857ca560",
   "metadata": {},
   "outputs": [],
   "source": [
    "df_train2 = pd.concat([df_train2, df_features_goodish], axis=0)\n",
    "df_train3 = pd.concat([df_train3, df_features_goodish], axis=0)\n",
    "df_train4 = pd.concat([df_train4, df_features_goodish], axis=0)\n",
    "df_train5 = pd.concat([df_train5, df_features_goodish], axis=0)"
   ]
  },
  {
   "cell_type": "code",
   "execution_count": 51,
   "id": "7708908e",
   "metadata": {},
   "outputs": [],
   "source": [
    "df_train1.to_csv('data/tr_features_soft_madder_f1.csv', index=None)\n",
    "df_val1.to_csv('data/vl_features_soft_madder_f1.csv', index=None)\n",
    "\n",
    "df_train2.to_csv('data/tr_features_soft_madder_f2.csv', index=None)\n",
    "df_val2.to_csv('data/vl_features_soft_madder_f2.csv', index=None)\n",
    "\n",
    "df_train3.to_csv('data/tr_features_soft_madder_f3.csv', index=None)\n",
    "df_val3.to_csv('data/vl_features_soft_madder_f3.csv', index=None)\n",
    "\n",
    "df_train4.to_csv('data/tr_features_soft_madder_f4.csv', index=None)\n",
    "df_val4.to_csv('data/vl_features_soft_madder_f4.csv', index=None)\n",
    "\n",
    "df_train5.to_csv('data/tr_features_soft_madder_f5.csv', index=None)\n",
    "df_val5.to_csv('data/vl_features_soft_madder_f5.csv', index=None)"
   ]
  },
  {
   "cell_type": "markdown",
   "id": "a5ab3d75",
   "metadata": {},
   "source": [
    "# Baseline Common-Sense alternative to all that mess\n",
    "All are hard labels. Just keep final label, if there is G3 we keep that, otherwise, we do random selection."
   ]
  },
  {
   "cell_type": "code",
   "execution_count": 57,
   "id": "3c1bd914",
   "metadata": {},
   "outputs": [
    {
     "data": {
      "text/plain": [
       "Index(['Eye ID', 'Final Label', 'Fellow Eye ID', 'Age', 'Label G1', 'Label G2',\n",
       "       'Label G3', 'G1 ANRS', 'G1 ANRI', 'G1 RNFLDS', 'G1 RNFLDI', 'G1 BCLVS',\n",
       "       'G1 BCLVI', 'G1 NVT', 'G1 DH', 'G1 LD', 'G1 LC', 'G2 ANRS', 'G2 ANRI',\n",
       "       'G2 RNFLDS', 'G2 RNFLDI', 'G2 BCLVS', 'G2 BCLVI', 'G2 NVT', 'G2 DH',\n",
       "       'G2 LD', 'G2 LC', 'G3 ANRS', 'G3 ANRI', 'G3 RNFLDS', 'G3 RNFLDI',\n",
       "       'G3 BCLVS', 'G3 BCLVI', 'G3 NVT', 'G3 DH', 'G3 LD', 'G3 LC'],\n",
       "      dtype='object')"
      ]
     },
     "execution_count": 57,
     "metadata": {},
     "output_type": "execute_result"
    }
   ],
   "source": [
    "df = pd.read_csv('data/JustRAIGS_Train_labels.csv', sep=';', index_col=False)\n",
    "df.columns"
   ]
  },
  {
   "cell_type": "code",
   "execution_count": 59,
   "id": "5228983e",
   "metadata": {},
   "outputs": [
    {
     "data": {
      "text/plain": [
       "(array(['NRG', 'RG'], dtype=object),\n",
       " array(['NRG', 'RG', 'U', nan], dtype=object),\n",
       " array(['NRG', nan, 'RG', 'U'], dtype=object))"
      ]
     },
     "execution_count": 59,
     "metadata": {},
     "output_type": "execute_result"
    }
   ],
   "source": [
    "def labels(label):\n",
    "    if label=='NRG': return 0\n",
    "    elif label=='RG': return 1\n",
    "    elif label=='U': return 2\n",
    "    elif label==np.nan: return 3\n",
    "df['Final Label'].unique(), df['Label G1'].unique(), df['Label G2'].unique()"
   ]
  },
  {
   "cell_type": "code",
   "execution_count": 60,
   "id": "f469f0ec",
   "metadata": {},
   "outputs": [
    {
     "data": {
      "text/plain": [
       "(array([0, 1]), array([ 0.,  1.,  2., nan]), array([ 0., nan,  1.,  2.]))"
      ]
     },
     "execution_count": 60,
     "metadata": {},
     "output_type": "execute_result"
    }
   ],
   "source": [
    "df['Final Label'] = df['Final Label'].map(labels)\n",
    "df['Label G1'] = df['Label G1'].map(labels)\n",
    "df['Label G2'] = df['Label G2'].map(labels)\n",
    "df['Label G3'] = df['Label G3'].map(labels)\n",
    "\n",
    "df['Final Label'].unique(), df['Label G1'].unique(), df['Label G2'].unique()"
   ]
  },
  {
   "cell_type": "code",
   "execution_count": 61,
   "id": "2fa4da0a",
   "metadata": {},
   "outputs": [
    {
     "data": {
      "text/plain": [
       "(3270, 37)"
      ]
     },
     "execution_count": 61,
     "metadata": {},
     "output_type": "execute_result"
    }
   ],
   "source": [
    "df[df['Final Label']==1].shape"
   ]
  },
  {
   "cell_type": "code",
   "execution_count": 62,
   "id": "05a8e367",
   "metadata": {},
   "outputs": [
    {
     "data": {
      "text/plain": [
       "(992, 37)"
      ]
     },
     "execution_count": 62,
     "metadata": {},
     "output_type": "execute_result"
    }
   ],
   "source": [
    "df_G3_alone = df[(df['Label G3']==1)]\n",
    "df_G3_alone.shape"
   ]
  },
  {
   "cell_type": "code",
   "execution_count": 63,
   "id": "c8fd4312",
   "metadata": {},
   "outputs": [
    {
     "data": {
      "text/plain": [
       "Index(['Eye ID', 'ANRS', 'ANRI', 'RNFLDS', 'RNFLDI', 'BCLVS', 'BCLVI', 'NVT',\n",
       "       'DH', 'LD', 'LC'],\n",
       "      dtype='object')"
      ]
     },
     "execution_count": 63,
     "metadata": {},
     "output_type": "execute_result"
    }
   ],
   "source": [
    "df_G3_alone=df_G3_alone.drop([n for n in df.columns if 'G1' in n], axis=1)\n",
    "df_G3_alone=df_G3_alone.drop([n for n in df.columns if 'G2' in n], axis=1)\n",
    "df_G3_alone=df_G3_alone.drop(['Label G3', 'Final Label', 'Fellow Eye ID', 'Age'], axis=1)\n",
    "df_G3_alone=df_G3_alone.rename(columns=lambda x: x.replace('G3 ','') if 'G3' in x else x)\n",
    "df_G3_alone.columns"
   ]
  },
  {
   "cell_type": "markdown",
   "id": "3ee7c216",
   "metadata": {},
   "source": [
    "### G1 thought Glaucoma, G2 agreed, but not at feature level - pick G2 who tends to agree more with G3"
   ]
  },
  {
   "cell_type": "code",
   "execution_count": 64,
   "id": "dfcc53f8",
   "metadata": {},
   "outputs": [
    {
     "data": {
      "text/plain": [
       "(2279, 37)"
      ]
     },
     "execution_count": 64,
     "metadata": {},
     "output_type": "execute_result"
    }
   ],
   "source": [
    "df_G1G2 = df[(df['Label G1']==1) & (df['Label G2']==1)]\n",
    "df_G1G2.shape"
   ]
  },
  {
   "cell_type": "code",
   "execution_count": 65,
   "id": "a083a39d",
   "metadata": {},
   "outputs": [],
   "source": [
    "def build_labels_g1g2(df, col):\n",
    "    return df['G2 '+col]"
   ]
  },
  {
   "cell_type": "code",
   "execution_count": 66,
   "id": "8744385d",
   "metadata": {},
   "outputs": [],
   "source": [
    "df_G1G2['ANRS']=df_G1G2.apply(lambda x: build_labels_g1g2(x, 'ANRS'), axis=1)\n",
    "df_G1G2['ANRI']= df_G1G2.apply(lambda x: build_labels_g1g2(x, 'ANRI'), axis=1)\n",
    "\n",
    "df_G1G2['RNFLDS']=df_G1G2.apply(lambda x: build_labels_g1g2(x, 'RNFLDS'), axis=1)\n",
    "df_G1G2['RNFLDI']=df_G1G2.apply(lambda x: build_labels_g1g2(x, 'RNFLDI'), axis=1)\n",
    "\n",
    "df_G1G2['BCLVS']=df_G1G2.apply(lambda x: build_labels_g1g2(x, 'BCLVS'), axis=1)\n",
    "df_G1G2['BCLVI']=df_G1G2.apply(lambda x: build_labels_g1g2(x, 'BCLVI'), axis=1)\n",
    "\n",
    "df_G1G2['NVT']=df_G1G2.apply(lambda x: build_labels_g1g2(x, 'NVT'), axis=1)\n",
    "df_G1G2['DH']=df_G1G2.apply(lambda x: build_labels_g1g2(x, 'DH'), axis=1)\n",
    "\n",
    "df_G1G2['LD']=df_G1G2.apply(lambda x: build_labels_g1g2(x, 'LD'), axis=1)\n",
    "df_G1G2['LC']=df_G1G2.apply(lambda x: build_labels_g1g2(x, 'LC'), axis=1)"
   ]
  },
  {
   "cell_type": "code",
   "execution_count": 67,
   "id": "d3c92a84",
   "metadata": {},
   "outputs": [
    {
     "data": {
      "text/plain": [
       "Index(['Eye ID', 'ANRS', 'ANRI', 'RNFLDS', 'RNFLDI', 'BCLVS', 'BCLVI', 'NVT',\n",
       "       'DH', 'LD', 'LC'],\n",
       "      dtype='object')"
      ]
     },
     "execution_count": 67,
     "metadata": {},
     "output_type": "execute_result"
    }
   ],
   "source": [
    "df_G1G2=df_G1G2.drop([n for n in df.columns if 'G1' in n], axis=1)\n",
    "df_G1G2=df_G1G2.drop([n for n in df.columns if 'G2' in n], axis=1)\n",
    "df_G1G2=df_G1G2.drop([n for n in df.columns if 'G3' in n], axis=1)\n",
    "df_G1G2=df_G1G2.drop(['Final Label', 'Fellow Eye ID', 'Age'], axis=1)\n",
    "# df_G1G2=df_G1G2.rename(columns=lambda x: x.replace('G3 ','') if 'G3' in x else x)\n",
    "df_G1G2.columns"
   ]
  },
  {
   "cell_type": "code",
   "execution_count": 68,
   "id": "28a21eb9",
   "metadata": {},
   "outputs": [
    {
     "data": {
      "text/plain": [
       "(3271, 11)"
      ]
     },
     "execution_count": 68,
     "metadata": {},
     "output_type": "execute_result"
    }
   ],
   "source": [
    "df_features_sane = pd.concat([df_G3_alone, df_G1G2], axis=0)\n",
    "df_features_sane.shape"
   ]
  },
  {
   "cell_type": "code",
   "execution_count": 69,
   "id": "06c090bd",
   "metadata": {},
   "outputs": [],
   "source": [
    "df_features_sane = df_features_sane.rename(columns={'Eye ID': 'image_id'})\n",
    "df_features_sane.image_id = [osp.join('data/images', n + '.JPG') for n in df_features_sane.image_id.values]"
   ]
  },
  {
   "cell_type": "markdown",
   "id": "c2b8b290",
   "metadata": {},
   "source": [
    "### build csvs"
   ]
  },
  {
   "cell_type": "code",
   "execution_count": 70,
   "id": "45ea0d9b",
   "metadata": {},
   "outputs": [],
   "source": [
    "num_ims = len(df_features_sane)\n",
    "meh, df_val1 = train_test_split(df_features_sane, test_size=num_ims // 5, random_state=0)\n",
    "meh, df_val2 = train_test_split(meh, test_size=num_ims // 5, random_state=0)\n",
    "meh, df_val3 = train_test_split(meh, test_size=num_ims // 5, random_state=0)\n",
    "df_val5, df_val4 = train_test_split(meh, test_size=num_ims // 5, random_state=0)\n",
    "\n",
    "df_train1 = pd.concat([df_val2,df_val3,df_val4,df_val5], axis=0)\n",
    "df_train2 = pd.concat([df_val1,df_val3,df_val4,df_val5], axis=0)\n",
    "df_train3 = pd.concat([df_val1,df_val2,df_val4,df_val5], axis=0)\n",
    "df_train4 = pd.concat([df_val1,df_val2,df_val3,df_val5], axis=0)\n",
    "df_train5 = pd.concat([df_val1,df_val2,df_val3,df_val4], axis=0)\n",
    "\n",
    "df_train1.to_csv('data/tr_features_sane_f1.csv', index=None)\n",
    "df_val1.to_csv('data/vl_features_sane_f1.csv', index=None)\n",
    "\n",
    "df_train2.to_csv('data/tr_features_sane_f2.csv', index=None)\n",
    "df_val2.to_csv('data/vl_features_sane_f2.csv', index=None)\n",
    "\n",
    "df_train3.to_csv('data/tr_features_sane_f3.csv', index=None)\n",
    "df_val3.to_csv('data/vl_features_sane_f3.csv', index=None)\n",
    "\n",
    "df_train4.to_csv('data/tr_features_sane_f4.csv', index=None)\n",
    "df_val4.to_csv('data/vl_features_sane_f4.csv', index=None)\n",
    "\n",
    "df_train5.to_csv('data/tr_features_sane_f5.csv', index=None)\n",
    "df_val5.to_csv('data/vl_features_sane_f5.csv', index=None)"
   ]
  },
  {
   "cell_type": "code",
   "execution_count": 71,
   "id": "e7b61b04",
   "metadata": {},
   "outputs": [
    {
     "data": {
      "text/plain": [
       "array([0., 1.])"
      ]
     },
     "execution_count": 71,
     "metadata": {},
     "output_type": "execute_result"
    }
   ],
   "source": [
    "np.unique(df_features_sane[[n for n in df_features_sane.columns if n!='image_id']])"
   ]
  },
  {
   "cell_type": "code",
   "execution_count": null,
   "id": "48cab13c",
   "metadata": {},
   "outputs": [],
   "source": []
  },
  {
   "cell_type": "markdown",
   "id": "425dc87f",
   "metadata": {},
   "source": [
    "# Handling Validation\n",
    "Thing is, it is okay to train with soft labels, but then again when validating, we will need hard labels. The organizers do as follows:\n",
    "* If there is G3, that rules\n",
    "* If there is not G3, then if G1==G2 that works, otherwise, ignore that feature."
   ]
  },
  {
   "cell_type": "code",
   "execution_count": null,
   "id": "b2eb4fa9",
   "metadata": {},
   "outputs": [],
   "source": [
    "def hamming_loss(true_labels, predicted_labels):\n",
    "    \"\"\"Calculate the Hamming loss for the given true and predicted labels.\"\"\"\n",
    "    # Convert to numpy arrays for efficient computation\n",
    "    true_labels = np.array(true_labels)\n",
    "    predicted_labels = np.array(predicted_labels)\n",
    "\n",
    "    # Calculate the hamming distance that is basically the total number of mismatches\n",
    "    Hamming_distance = np.sum(np.not_equal(true_labels, predicted_labels))\n",
    "    \n",
    "    # Calculate the total number of labels\n",
    "    total_corrected_labels= true_labels.size\n",
    "\n",
    "    # Compute the Modified Hamming loss\n",
    "    loss = Hamming_distance / total_corrected_labels\n",
    "    return loss"
   ]
  },
  {
   "cell_type": "code",
   "execution_count": null,
   "id": "1d825a9c",
   "metadata": {},
   "outputs": [],
   "source": [
    "true_labels = [0,0,0,0,0,1,1,1,1,1]\n",
    "pred_labels = [0,0,0,0,0,1,1,1,1,1]\n",
    "hamming_loss(true_labels, pred_labels)"
   ]
  },
  {
   "cell_type": "code",
   "execution_count": null,
   "id": "6af3df27",
   "metadata": {},
   "outputs": [],
   "source": [
    "true_labels = [0,0,0,0,0,1,1,1,1,1]\n",
    "pred_labels = [0,0,0,0,1,0,1,1,1,1]\n",
    "hamming_loss(true_labels, pred_labels)"
   ]
  },
  {
   "cell_type": "code",
   "execution_count": null,
   "id": "7e172ce2",
   "metadata": {},
   "outputs": [],
   "source": [
    "true_labels = [0,0,0,0,1,1,1,1] # remove two labels that might have been \"polemic\"\n",
    "pred_labels = [0,0,0,1,0,1,1,1]\n",
    "hamming_loss(true_labels, pred_labels)"
   ]
  },
  {
   "cell_type": "markdown",
   "id": "2608abc8",
   "metadata": {},
   "source": [
    "So in validation we need to do as follows:\n",
    "* If labels are 0 or 1, then keep them\n",
    "* if they are 0.1 or 0.9 that means they come from G3, also keep them\n",
    "* If they are 0.25 or 0.5, ignore them, as they do not come from G3 or G1==G2"
   ]
  },
  {
   "cell_type": "code",
   "execution_count": null,
   "id": "23421893",
   "metadata": {},
   "outputs": [],
   "source": [
    "def hamming_loss(true_labels, predicted_labels):\n",
    "    true_labels = np.array(true_labels)\n",
    "    predicted_labels = np.array(predicted_labels)\n",
    "    # keep only features for which there was agreement, see data_splitting_features.ipynb\n",
    "    y_true=true_labels[(true_labels<=0.1) | (true_labels>=0.9)]\n",
    "    y_true = y_true>0.5 # need to binarize now\n",
    "    y_pred=pred_labels[(true_labels<=0.1) | (true_labels>=0.9)]\n",
    "    # Calculate the hamming distance that is basically the total number of mismatches\n",
    "    hamming_distance = np.sum(np.not_equal(y_true, y_pred))\n",
    "    \n",
    "    # Calculate the total number of labels\n",
    "    total_corrected_labels= y_true.size\n",
    "\n",
    "    # Compute the Modified Hamming loss\n",
    "    loss = hamming_distance / total_corrected_labels\n",
    "    return loss"
   ]
  },
  {
   "cell_type": "code",
   "execution_count": null,
   "id": "6b047690",
   "metadata": {},
   "outputs": [],
   "source": [
    "true_labels = np.array([0,0.1,0.25,0.75,0.9,1])\n",
    "pred_labels = np.array([0,  0,   0,   1,  1, 1])"
   ]
  },
  {
   "cell_type": "code",
   "execution_count": null,
   "id": "2a91d0cf",
   "metadata": {},
   "outputs": [],
   "source": [
    "true_labels[(true_labels<=0.1) | (true_labels>=0.9)],\\\n",
    "pred_labels[(true_labels<=0.1) | (true_labels>=0.9)]"
   ]
  },
  {
   "cell_type": "code",
   "execution_count": null,
   "id": "2b7086d9",
   "metadata": {},
   "outputs": [],
   "source": [
    "hamming_loss(true_labels, pred_labels)"
   ]
  }
 ],
 "metadata": {
  "kernelspec": {
   "display_name": "nnunet",
   "language": "python",
   "name": "nnunet"
  },
  "language_info": {
   "codemirror_mode": {
    "name": "ipython",
    "version": 3
   },
   "file_extension": ".py",
   "mimetype": "text/x-python",
   "name": "python",
   "nbconvert_exporter": "python",
   "pygments_lexer": "ipython3",
   "version": "3.10.11"
  }
 },
 "nbformat": 4,
 "nbformat_minor": 5
}
