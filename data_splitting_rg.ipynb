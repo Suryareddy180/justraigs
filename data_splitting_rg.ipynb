{
 "cells": [
  {
   "cell_type": "code",
   "execution_count": 1,
   "id": "cfa878d9",
   "metadata": {},
   "outputs": [],
   "source": [
    "from sklearn.model_selection import train_test_split\n",
    "import pandas as pd\n",
    "import numpy as np"
   ]
  },
  {
   "cell_type": "code",
   "execution_count": 2,
   "id": "552d974f",
   "metadata": {},
   "outputs": [
    {
     "data": {
      "text/plain": [
       "Index(['Eye ID', 'Final Label', 'Fellow Eye ID', 'Age', 'Label G1', 'Label G2',\n",
       "       'Label G3', 'G1 ANRS', 'G1 ANRI', 'G1 RNFLDS', 'G1 RNFLDI', 'G1 BCLVS',\n",
       "       'G1 BCLVI', 'G1 NVT', 'G1 DH', 'G1 LD', 'G1 LC', 'G2 ANRS', 'G2 ANRI',\n",
       "       'G2 RNFLDS', 'G2 RNFLDI', 'G2 BCLVS', 'G2 BCLVI', 'G2 NVT', 'G2 DH',\n",
       "       'G2 LD', 'G2 LC', 'G3 ANRS', 'G3 ANRI', 'G3 RNFLDS', 'G3 RNFLDI',\n",
       "       'G3 BCLVS', 'G3 BCLVI', 'G3 NVT', 'G3 DH', 'G3 LD', 'G3 LC'],\n",
       "      dtype='object')"
      ]
     },
     "execution_count": 2,
     "metadata": {},
     "output_type": "execute_result"
    }
   ],
   "source": [
    "df = pd.read_csv('data/JustRAIGS_Train_labels.csv', sep=';')\n",
    "df.columns"
   ]
  },
  {
   "cell_type": "code",
   "execution_count": 3,
   "id": "6f747bad",
   "metadata": {},
   "outputs": [
    {
     "data": {
      "text/plain": [
       "(101423, 37)"
      ]
     },
     "execution_count": 3,
     "metadata": {},
     "output_type": "execute_result"
    }
   ],
   "source": [
    "df.shape"
   ]
  },
  {
   "cell_type": "code",
   "execution_count": 5,
   "id": "039c5988",
   "metadata": {},
   "outputs": [],
   "source": [
    "def labels(label):\n",
    "    if label=='NRG': return 0\n",
    "    elif label=='RG': return 1\n",
    "    else: return -1"
   ]
  },
  {
   "cell_type": "code",
   "execution_count": 6,
   "id": "daad44b5",
   "metadata": {},
   "outputs": [],
   "source": [
    "df['Final Label'] = df['Final Label'].map(labels)"
   ]
  },
  {
   "cell_type": "code",
   "execution_count": 7,
   "id": "2363cbab",
   "metadata": {},
   "outputs": [
    {
     "data": {
      "text/plain": [
       "['Fellow Eye ID',\n",
       " 'Age',\n",
       " 'Label G1',\n",
       " 'Label G2',\n",
       " 'Label G3',\n",
       " 'G1 ANRS',\n",
       " 'G1 ANRI',\n",
       " 'G1 RNFLDS',\n",
       " 'G1 RNFLDI',\n",
       " 'G1 BCLVS',\n",
       " 'G1 BCLVI',\n",
       " 'G1 NVT',\n",
       " 'G1 DH',\n",
       " 'G1 LD',\n",
       " 'G1 LC',\n",
       " 'G2 ANRS',\n",
       " 'G2 ANRI',\n",
       " 'G2 RNFLDS',\n",
       " 'G2 RNFLDI',\n",
       " 'G2 BCLVS',\n",
       " 'G2 BCLVI',\n",
       " 'G2 NVT',\n",
       " 'G2 DH',\n",
       " 'G2 LD',\n",
       " 'G2 LC',\n",
       " 'G3 ANRS',\n",
       " 'G3 ANRI',\n",
       " 'G3 RNFLDS',\n",
       " 'G3 RNFLDI',\n",
       " 'G3 BCLVS',\n",
       " 'G3 BCLVI',\n",
       " 'G3 NVT',\n",
       " 'G3 DH',\n",
       " 'G3 LD',\n",
       " 'G3 LC']"
      ]
     },
     "execution_count": 7,
     "metadata": {},
     "output_type": "execute_result"
    }
   ],
   "source": [
    "[n for n in df.columns if n not in ['Eye ID', 'Final Label']]"
   ]
  },
  {
   "cell_type": "markdown",
   "id": "d71c414b",
   "metadata": {},
   "source": [
    "# Build datasets for Referrable Glaucoma prediction\n"
   ]
  },
  {
   "cell_type": "code",
   "execution_count": 8,
   "id": "fa78a52f",
   "metadata": {},
   "outputs": [
    {
     "data": {
      "text/plain": [
       "Index(['Eye ID', 'Final Label'], dtype='object')"
      ]
     },
     "execution_count": 8,
     "metadata": {},
     "output_type": "execute_result"
    }
   ],
   "source": [
    "df = df.drop([n for n in df.columns if n not in ['Eye ID', 'Final Label']], axis=1)\n",
    "df.columns"
   ]
  },
  {
   "cell_type": "code",
   "execution_count": 9,
   "id": "c1d9c9a8",
   "metadata": {},
   "outputs": [],
   "source": [
    "df=df.rename(columns={'Eye ID': 'image_id', 'Final Label': 'label'})\n",
    "df.image_id = [n+'.JPG' for n in df.image_id.values]"
   ]
  },
  {
   "cell_type": "code",
   "execution_count": 10,
   "id": "4f92f5b2",
   "metadata": {},
   "outputs": [
    {
     "data": {
      "text/html": [
       "<div>\n",
       "<style scoped>\n",
       "    .dataframe tbody tr th:only-of-type {\n",
       "        vertical-align: middle;\n",
       "    }\n",
       "\n",
       "    .dataframe tbody tr th {\n",
       "        vertical-align: top;\n",
       "    }\n",
       "\n",
       "    .dataframe thead th {\n",
       "        text-align: right;\n",
       "    }\n",
       "</style>\n",
       "<table border=\"1\" class=\"dataframe\">\n",
       "  <thead>\n",
       "    <tr style=\"text-align: right;\">\n",
       "      <th></th>\n",
       "      <th>image_id</th>\n",
       "      <th>label</th>\n",
       "    </tr>\n",
       "  </thead>\n",
       "  <tbody>\n",
       "    <tr>\n",
       "      <th>0</th>\n",
       "      <td>TRAIN000000.JPG</td>\n",
       "      <td>0</td>\n",
       "    </tr>\n",
       "    <tr>\n",
       "      <th>1</th>\n",
       "      <td>TRAIN000001.JPG</td>\n",
       "      <td>0</td>\n",
       "    </tr>\n",
       "    <tr>\n",
       "      <th>2</th>\n",
       "      <td>TRAIN000002.JPG</td>\n",
       "      <td>0</td>\n",
       "    </tr>\n",
       "    <tr>\n",
       "      <th>3</th>\n",
       "      <td>TRAIN000003.JPG</td>\n",
       "      <td>0</td>\n",
       "    </tr>\n",
       "    <tr>\n",
       "      <th>4</th>\n",
       "      <td>TRAIN000004.JPG</td>\n",
       "      <td>0</td>\n",
       "    </tr>\n",
       "  </tbody>\n",
       "</table>\n",
       "</div>"
      ],
      "text/plain": [
       "          image_id  label\n",
       "0  TRAIN000000.JPG      0\n",
       "1  TRAIN000001.JPG      0\n",
       "2  TRAIN000002.JPG      0\n",
       "3  TRAIN000003.JPG      0\n",
       "4  TRAIN000004.JPG      0"
      ]
     },
     "execution_count": 10,
     "metadata": {},
     "output_type": "execute_result"
    }
   ],
   "source": [
    "df.head()"
   ]
  },
  {
   "cell_type": "code",
   "execution_count": 11,
   "id": "ea602a86",
   "metadata": {},
   "outputs": [
    {
     "data": {
      "text/plain": [
       "(array([0, 1]), array([98153,  3270]))"
      ]
     },
     "execution_count": 11,
     "metadata": {},
     "output_type": "execute_result"
    }
   ],
   "source": [
    "np.unique(df['label'], return_counts=True)"
   ]
  },
  {
   "cell_type": "code",
   "execution_count": 12,
   "id": "27c11960",
   "metadata": {},
   "outputs": [],
   "source": [
    "num_ims = len(df)\n",
    "meh, df_val1 = train_test_split(df, test_size=num_ims//5, random_state=0, stratify=df.label)\n",
    "meh, df_val2 = train_test_split(meh,    test_size=num_ims//5, random_state=0, stratify=meh.label)\n",
    "meh, df_val3 = train_test_split(meh,    test_size=num_ims//5, random_state=0, stratify=meh.label)\n",
    "df_val5, df_val4 = train_test_split(meh,test_size=num_ims//5, random_state=0, stratify=meh.label)\n",
    "\n",
    "df_train1 = pd.concat([df_val2,df_val3,df_val4,df_val5], axis=0)\n",
    "df_train2 = pd.concat([df_val1,df_val3,df_val4,df_val5], axis=0)\n",
    "df_train3 = pd.concat([df_val1,df_val2,df_val4,df_val5], axis=0)\n",
    "df_train4 = pd.concat([df_val1,df_val2,df_val3,df_val5], axis=0)\n",
    "df_train5 = pd.concat([df_val1,df_val2,df_val3,df_val4], axis=0)\n",
    "\n",
    "df_train1.to_csv('data/tr_rg_f1.csv', index=None)\n",
    "df_val1.to_csv('data/vl_rg_f1.csv', index=None)\n",
    "\n",
    "df_train2.to_csv('data/tr_rg_f2.csv', index=None)\n",
    "df_val2.to_csv('data/vl_rg_f2.csv', index=None)\n",
    "\n",
    "df_train3.to_csv('data/tr_rg_f3.csv', index=None)\n",
    "df_val3.to_csv('data/vl_rg_f3.csv', index=None)\n",
    "\n",
    "df_train4.to_csv('data/tr_rg_f4.csv', index=None)\n",
    "df_val4.to_csv('data/vl_rg_f4.csv', index=None)\n",
    "\n",
    "df_train5.to_csv('data/tr_rg_f5.csv', index=None)\n",
    "df_val5.to_csv('data/vl_rg_f5.csv', index=None)"
   ]
  },
  {
   "cell_type": "markdown",
   "id": "8e66cb0d",
   "metadata": {},
   "source": [
    "# Adding uncertainty\n",
    "If G1 == G2, that is final. If G1 != G2, then G3 says something. Instead of using 'Final Label' directly, it would be maybe better to give it a label of (1/4, 3/4) or (3/4, 1/4) in cases where one grader disagreed, right?\n",
    "\n",
    "It's not that easy. It turns out that:\n",
    "\n",
    "\n",
    "``We evaluated the performance of the graders periodically and occasionally had to remove a grader. In such a case, all labels were removed because they could not be trusted.``\n",
    "\n",
    "``In general, these eyes were re-evaluated by other graders - but not if they were already reviewed by the third grader. After all, the third grader overruled the other graders, so the labels of graders 1 and 2 were no longer relevant.``\n",
    "\n",
    "``The 'U' means Ungradable, which could be selected by graders if they thought the image's quality was too poor to judge the eye. We excluded all image with a final Ungradable label in this challenge, but you can still come across them for the graders.``\n"
   ]
  },
  {
   "cell_type": "code",
   "execution_count": 184,
   "id": "9dfaa9ff",
   "metadata": {},
   "outputs": [
    {
     "data": {
      "text/plain": [
       "Index(['Eye ID', 'Final Label', 'Fellow Eye ID', 'Age', 'Label G1', 'Label G2',\n",
       "       'Label G3', 'G1 ANRS', 'G1 ANRI', 'G1 RNFLDS', 'G1 RNFLDI', 'G1 BCLVS',\n",
       "       'G1 BCLVI', 'G1 NVT', 'G1 DH', 'G1 LD', 'G1 LC', 'G2 ANRS', 'G2 ANRI',\n",
       "       'G2 RNFLDS', 'G2 RNFLDI', 'G2 BCLVS', 'G2 BCLVI', 'G2 NVT', 'G2 DH',\n",
       "       'G2 LD', 'G2 LC', 'G3 ANRS', 'G3 ANRI', 'G3 RNFLDS', 'G3 RNFLDI',\n",
       "       'G3 BCLVS', 'G3 BCLVI', 'G3 NVT', 'G3 DH', 'G3 LD', 'G3 LC'],\n",
       "      dtype='object')"
      ]
     },
     "execution_count": 184,
     "metadata": {},
     "output_type": "execute_result"
    }
   ],
   "source": [
    "df = pd.read_csv('data/JustRAIGS_Train_labels.csv', sep=';', index_col=False)\n",
    "df.columns"
   ]
  },
  {
   "cell_type": "code",
   "execution_count": 185,
   "id": "04513e74",
   "metadata": {},
   "outputs": [
    {
     "data": {
      "text/plain": [
       "Index(['Eye ID', 'Final Label', 'Label G1', 'Label G2', 'Label G3'], dtype='object')"
      ]
     },
     "execution_count": 185,
     "metadata": {},
     "output_type": "execute_result"
    }
   ],
   "source": [
    "df = df.drop([n for n in df.columns if n not in ['Eye ID', 'Final Label', 'Label G1', 'Label G2','Label G3']], \n",
    "             axis=1)\n",
    "df.columns"
   ]
  },
  {
   "cell_type": "code",
   "execution_count": 186,
   "id": "62d0bd2d",
   "metadata": {},
   "outputs": [
    {
     "data": {
      "text/plain": [
       "(array(['NRG', 'RG'], dtype=object),\n",
       " array(['NRG', 'RG', 'U', nan], dtype=object),\n",
       " array(['NRG', nan, 'RG', 'U'], dtype=object))"
      ]
     },
     "execution_count": 186,
     "metadata": {},
     "output_type": "execute_result"
    }
   ],
   "source": [
    "def labels(label):\n",
    "    if label=='NRG': return 0\n",
    "    elif label=='RG': return 1\n",
    "    elif label=='U': return 2\n",
    "    elif label==np.nan: return 3\n",
    "df['Final Label'].unique(), df['Label G1'].unique(), df['Label G2'].unique()"
   ]
  },
  {
   "cell_type": "code",
   "execution_count": 187,
   "id": "c2ab280c",
   "metadata": {},
   "outputs": [],
   "source": [
    "df['Final Label'] = df['Final Label'].map(labels)\n",
    "df['Label G1'] = df['Label G1'].map(labels)\n",
    "df['Label G2'] = df['Label G2'].map(labels)\n",
    "df['Label G3'] = df['Label G3'].map(labels)\n",
    "\n",
    "df['Final Label'].unique(), df['Label G1'].unique(), df['Label G2'].unique()"
   ]
  },
  {
   "cell_type": "code",
   "execution_count": 188,
   "id": "0ad847c1",
   "metadata": {},
   "outputs": [
    {
     "data": {
      "text/plain": [
       "(array([0, 1]), array([ 0.,  1.,  2., nan]), array([ 0., nan,  1.,  2.]))"
      ]
     },
     "execution_count": 188,
     "metadata": {},
     "output_type": "execute_result"
    }
   ],
   "source": [
    "df['Final Label'].unique(), df['Label G1'].unique(), df['Label G2'].unique()"
   ]
  },
  {
   "cell_type": "markdown",
   "id": "ff93f04c",
   "metadata": {},
   "source": [
    "So here is what we are gonna do: \n",
    "\n",
    "* If any grader said 'U', we assign a label of 0.1 if Final Grade==0, and of 0.9 if Final Grade==1\n",
    "* For images where Label G1 is nan, if Label G2 != Label G3, we assign a 0.8 if G3 says 1, and 0.2 if G3 says 0\n",
    "* Same for images where Label G2 is nan\n",
    "* For images where Label G1 != Label G2, \n",
    "    - if Label G1==Label G3==1, then 0.85\n",
    "    - if Label G1==Label G3==0, then 0.15\n",
    "    - if Label G2==Label G3==1, then 0.85\n",
    "    - if Label G2==Label G3==0, then 0.15\n",
    "* And that is all, right?\n",
    "\n",
    "Note that this needs to happen only for training dfs, not for validation dfs, which require hard labels and we will be using Final Label in that case."
   ]
  },
  {
   "cell_type": "code",
   "execution_count": 217,
   "id": "3629672f",
   "metadata": {},
   "outputs": [],
   "source": [
    "def map_label(label, low=0, high=1):\n",
    "    if label == 0: return low\n",
    "    elif label==1: return high\n",
    "    else: return label\n",
    "\n",
    "\n",
    "def soften_labels(df):\n",
    "    df.loc[(df['Label G1']==2) | (df['Label G2']==2), 'Final Label']=\\\n",
    "df.loc[(df['Label G1']==2) | (df['Label G2']==2), 'Final Label'].apply(lambda x:map_label(x, low=0.1, high=0.9))\n",
    "    df.loc[(np.isnan(df['Label G2'])) & (~np.isnan(df['Label G1'])) & (df['Label G1']!=df['Label G3']), 'Final Label']=\\\n",
    "df.loc[(np.isnan(df['Label G2'])) & (~np.isnan(df['Label G1'])) & (df['Label G1']!=df['Label G3']), 'Final Label'].apply(lambda x:map_label(x, low=0.15, high=0.85))\n",
    "    return df\n",
    "#     print(ambiguous.shape)\n",
    "    #return this_df"
   ]
  },
  {
   "cell_type": "code",
   "execution_count": 190,
   "id": "4e16dcf6",
   "metadata": {},
   "outputs": [
    {
     "data": {
      "text/plain": [
       "(101423, 5)"
      ]
     },
     "execution_count": 190,
     "metadata": {},
     "output_type": "execute_result"
    }
   ],
   "source": [
    "df.shape"
   ]
  },
  {
   "cell_type": "code",
   "execution_count": 209,
   "id": "75031b61",
   "metadata": {},
   "outputs": [
    {
     "data": {
      "text/plain": [
       "274"
      ]
     },
     "execution_count": 209,
     "metadata": {},
     "output_type": "execute_result"
    }
   ],
   "source": [
    "df['Label G1'].isna().sum()"
   ]
  },
  {
   "cell_type": "code",
   "execution_count": 210,
   "id": "5b88ee52",
   "metadata": {},
   "outputs": [
    {
     "data": {
      "text/plain": [
       "1377"
      ]
     },
     "execution_count": 210,
     "metadata": {},
     "output_type": "execute_result"
    }
   ],
   "source": [
    "df['Label G2'].isna().sum()"
   ]
  },
  {
   "cell_type": "markdown",
   "id": "771d0eaf",
   "metadata": {},
   "source": [
    "All samples that are nan for G1 are also nan for G2"
   ]
  },
  {
   "cell_type": "code",
   "execution_count": 211,
   "id": "068b0441",
   "metadata": {},
   "outputs": [
    {
     "data": {
      "text/plain": [
       "(274,)"
      ]
     },
     "execution_count": 211,
     "metadata": {},
     "output_type": "execute_result"
    }
   ],
   "source": [
    "df.loc[(np.isnan(df['Label G1'])) & (np.isnan(df['Label G2'])), 'Final Label'].shape"
   ]
  },
  {
   "cell_type": "markdown",
   "id": "f9d1f0a5",
   "metadata": {},
   "source": [
    "Therefore no samples have nan in G1 and not nan in G2:"
   ]
  },
  {
   "cell_type": "code",
   "execution_count": 212,
   "id": "2af731aa",
   "metadata": {},
   "outputs": [
    {
     "data": {
      "text/plain": [
       "(0,)"
      ]
     },
     "execution_count": 212,
     "metadata": {},
     "output_type": "execute_result"
    }
   ],
   "source": [
    "df.loc[(np.isnan(df['Label G1'])) & (~np.isnan(df['Label G2'])), 'Final Label'].shape"
   ]
  },
  {
   "cell_type": "markdown",
   "id": "94a0dbf3",
   "metadata": {},
   "source": [
    "And there are samples that are nans for G2 and not for G1"
   ]
  },
  {
   "cell_type": "code",
   "execution_count": 213,
   "id": "07d39c00",
   "metadata": {},
   "outputs": [
    {
     "data": {
      "text/plain": [
       "(1103,)"
      ]
     },
     "execution_count": 213,
     "metadata": {},
     "output_type": "execute_result"
    }
   ],
   "source": [
    "df.loc[(np.isnan(df['Label G2'])) & (~np.isnan(df['Label G1'])), 'Final Label'].shape"
   ]
  },
  {
   "cell_type": "markdown",
   "id": "3c9ce23a",
   "metadata": {},
   "source": [
    "For these, if G1 is different than G3, we soften the label:"
   ]
  },
  {
   "cell_type": "code",
   "execution_count": 214,
   "id": "454fc5a5",
   "metadata": {},
   "outputs": [
    {
     "data": {
      "text/plain": [
       "(343,)"
      ]
     },
     "execution_count": 214,
     "metadata": {},
     "output_type": "execute_result"
    }
   ],
   "source": [
    "df.loc[(np.isnan(df['Label G2'])) & (~np.isnan(df['Label G1'])) & (df['Label G1']!=df['Label G3']), 'Final Label'].shape"
   ]
  },
  {
   "cell_type": "code",
   "execution_count": 216,
   "id": "d4390d70",
   "metadata": {},
   "outputs": [],
   "source": [
    "df.loc[(np.isnan(df['Label G2'])) & (~np.isnan(df['Label G1'])) & (df['Label G1']!=df['Label G3']), 'Final Label']=df.loc[(np.isnan(df['Label G2'])) & (~np.isnan(df['Label G1'])) & (df['Label G1']!=df['Label G3']), 'Final Label'].apply(lambda x:map_label(x, low=0.1, high=0.9))"
   ]
  },
  {
   "cell_type": "markdown",
   "id": "ec290b86",
   "metadata": {},
   "source": [
    "# Done"
   ]
  },
  {
   "cell_type": "code",
   "execution_count": 237,
   "id": "2ec82a9b",
   "metadata": {},
   "outputs": [],
   "source": [
    "def map_label(label, low=0, high=1):\n",
    "    if label == 0: return low\n",
    "    elif label==1: return high\n",
    "    else: return label\n",
    "\n",
    "\n",
    "def soften_labels(df):\n",
    "    df.loc[(df['Label G1']==2) | (df['Label G2']==2), 'label']=\\\n",
    "df.loc[(df['Label G1']==2) | (df['Label G2']==2), 'label'].apply(lambda x:map_label(x, low=0.1, high=0.9))\n",
    "    df.loc[(np.isnan(df['Label G2'])) & (~np.isnan(df['Label G1'])) & (df['Label G1']!=df['Label G3']), 'label']=\\\n",
    "df.loc[(np.isnan(df['Label G2'])) & (~np.isnan(df['Label G1'])) & (df['Label G1']!=df['Label G3']), 'label'].apply(lambda x:map_label(x, low=0.15, high=0.85))\n",
    "    return df\n",
    "#     print(ambiguous.shape)\n",
    "    #return this_df"
   ]
  },
  {
   "cell_type": "code",
   "execution_count": 238,
   "id": "099938f7",
   "metadata": {},
   "outputs": [],
   "source": [
    "df = pd.read_csv('data/JustRAIGS_Train_labels.csv', sep=';', index_col=False)\n",
    "df=df.rename(columns={'Eye ID': 'image_id', 'Final Label': 'label'})\n",
    "df.image_id = [n+'.JPG' for n in df.image_id.values]\n",
    "df = df.drop([n for n in df.columns if n not in ['image_id','label','Label G1','Label G2','Label G3']],axis=1)"
   ]
  },
  {
   "cell_type": "code",
   "execution_count": 239,
   "id": "78cd55ce",
   "metadata": {},
   "outputs": [
    {
     "data": {
      "text/plain": [
       "(array([0, 1]), array([ 0.,  1.,  2., nan]), array([ 0., nan,  1.,  2.]))"
      ]
     },
     "execution_count": 239,
     "metadata": {},
     "output_type": "execute_result"
    }
   ],
   "source": [
    "df['label'] = df['label'].map(labels)\n",
    "df['Label G1'] = df['Label G1'].map(labels)\n",
    "df['Label G2'] = df['Label G2'].map(labels)\n",
    "df['Label G3'] = df['Label G3'].map(labels)\n",
    "\n",
    "df['label'].unique(), df['Label G1'].unique(), df['Label G2'].unique()"
   ]
  },
  {
   "cell_type": "code",
   "execution_count": 240,
   "id": "22b50bb3",
   "metadata": {},
   "outputs": [],
   "source": [
    "df = soften_labels(df)"
   ]
  },
  {
   "cell_type": "code",
   "execution_count": 241,
   "id": "e3dc643f",
   "metadata": {},
   "outputs": [
    {
     "data": {
      "text/plain": [
       "(array([0.  , 1.  , 0.1 , 0.9 , 0.15, 0.85]),\n",
       " array([ 0.,  1.,  2., nan]),\n",
       " array([ 0., nan,  1.,  2.]))"
      ]
     },
     "execution_count": 241,
     "metadata": {},
     "output_type": "execute_result"
    }
   ],
   "source": [
    "df['label'].unique(), df['Label G1'].unique(), df['Label G2'].unique()"
   ]
  }
 ],
 "metadata": {
  "kernelspec": {
   "display_name": "nnunet",
   "language": "python",
   "name": "nnunet"
  },
  "language_info": {
   "codemirror_mode": {
    "name": "ipython",
    "version": 3
   },
   "file_extension": ".py",
   "mimetype": "text/x-python",
   "name": "python",
   "nbconvert_exporter": "python",
   "pygments_lexer": "ipython3",
   "version": "3.10.11"
  }
 },
 "nbformat": 4,
 "nbformat_minor": 5
}
